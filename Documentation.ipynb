{
 "cells": [
  {
   "cell_type": "markdown",
   "id": "c137cdac",
   "metadata": {},
   "source": [
    "## An overview to the Realtime drowsiness detection program"
   ]
  },
  {
   "cell_type": "markdown",
   "id": "1f3f22ab",
   "metadata": {},
   "source": [
    "#### Importing the necessary libraries"
   ]
  },
  {
   "cell_type": "code",
   "execution_count": null,
   "id": "6535df9f",
   "metadata": {},
   "outputs": [],
   "source": [
    "import cv2\n",
    "import numpy as np\n",
    "import tensorflow as tf"
   ]
  },
  {
   "cell_type": "markdown",
   "id": "d36d70f5",
   "metadata": {},
   "source": [
    "## Let's understand each function in depth"
   ]
  },
  {
   "cell_type": "markdown",
   "id": "e95c05d8",
   "metadata": {},
   "source": [
    "#### 1. Function to detect eyes"
   ]
  },
  {
   "cell_type": "code",
   "execution_count": null,
   "id": "539cf980",
   "metadata": {},
   "outputs": [],
   "source": [
    "def detect_eyes(frame, face_cascade, eye_cascade):\n",
    "    gray = cv2.cvtColor(frame, cv2.COLOR_BGR2GRAY)\n",
    "    faces = face_cascade.detectMultiScale(gray, scaleFactor=1.3, minNeighbors=5, minSize=(30, 30))\n",
    "\n",
    "    eyes_coordinates = []\n",
    "    for (x, y, w, h) in faces:\n",
    "        roi_gray = gray[y:y+h, x:x+w]\n",
    "        eyes = eye_cascade.detectMultiScale(roi_gray)\n",
    "\n",
    "        for (ex, ey, ew, eh) in eyes:\n",
    "            eye_roi = frame[y:y+h, x:x+w]\n",
    "            eyes_coordinates.append((x + ex, y + ey, ew, eh))\n",
    "\n",
    "    return eyes_coordinates"
   ]
  },
  {
   "cell_type": "markdown",
   "id": "8c1e0248",
   "metadata": {},
   "source": [
    "#### This function detects the eyes using the HaarCascades in the captured image from real-time video feed and returns the coordinates of the eyes "
   ]
  },
  {
   "cell_type": "markdown",
   "id": "36cd820e",
   "metadata": {},
   "source": [
    "#### 2. Function to classify the images "
   ]
  },
  {
   "cell_type": "code",
   "execution_count": null,
   "id": "fa9e5838",
   "metadata": {},
   "outputs": [],
   "source": [
    "def detect_drowsiness(model, eye):\n",
    "    eye_resized = cv2.resize(eye, (300,300))\n",
    "    eye_resized = eye_resized.astype(np.float32) / 255.0\n",
    "    eye_resized = np.expand_dims(eye_resized, axis=0)\n",
    "\n",
    "    prediction = model.predict(eye_resized)\n",
    "\n",
    "    drowsiness_score = prediction[0][0]\n",
    "    print(drowsiness_score)\n",
    "    if drowsiness_score<0:\n",
    "        return True\n",
    "    else:\n",
    "        return False"
   ]
  },
  {
   "cell_type": "markdown",
   "id": "8327fc4e",
   "metadata": {},
   "source": [
    "#### This function utilizes the pretrained model stored in the same directory to classify if the person is drowsy or not. It receives the model and the images of the eyes as parameters.\n",
    "#### It then resizes the images into 300 * 300 px and then converts it to B/W images for classification\n",
    "#### The processed images are then fed into the model to generate a drowsiness score and returns True if the score <0 i.e. the preson is drowsy or else vice-a-versa"
   ]
  },
  {
   "cell_type": "markdown",
   "id": "a2ec2a36",
   "metadata": {},
   "source": [
    "### 3. The main function"
   ]
  },
  {
   "cell_type": "code",
   "execution_count": null,
   "id": "2829eed2",
   "metadata": {},
   "outputs": [],
   "source": [
    "def main():\n",
    "    face_cascade = cv2.CascadeClassifier(cv2.data.haarcascades + 'haarcascade_frontalface_default.xml')\n",
    "    eye_cascade = cv2.CascadeClassifier(cv2.data.haarcascades + 'haarcascade_eye.xml')\n",
    "    # import the haarCascades for face detection and eye detection\n",
    "\n",
    "    model = tf.keras.models.load_model(\"model\") # Load the model\n",
    "\n",
    "    cap = cv2.VideoCapture(0)\n",
    "\n",
    "    blink_counter = 0 \n",
    "    drowsy_time_threshold = 10  #will classify drowsy if eyes closed for more than 10 frames\n",
    "    drowsy = False\n",
    "\n",
    "    while True:\n",
    "        ret, frame = cap.read()\n",
    "        if not ret:\n",
    "            break\n",
    "\n",
    "        eyes_coordinates = detect_eyes(frame, face_cascade, eye_cascade) #Get the coordinates of the eyes in the Live-Feed\n",
    "\n",
    "        drowsy_count = 0\n",
    "        for (ex, ey, ew, eh) in eyes_coordinates:\n",
    "            eye = frame[ey:ey+eh, ex:ex+ew]\n",
    "\n",
    "            drowsy = detect_drowsiness(model, eye)\n",
    "\n",
    "            if drowsy:\n",
    "                color = (0, 255, 0)  # Red color for drowsy eyes\n",
    "                drowsy_count += 1\n",
    "            else:\n",
    "                color = (0, 0, 255)  # Green color for alert eyes\n",
    "\n",
    "            # For drawing a rectangle around the detected eyes\n",
    "            cv2.rectangle(frame, (ex, ey), (ex + ew, ey + eh), color, 2)\n",
    "\n",
    "        if drowsy_count > 0:\n",
    "            blink_counter += 1\n",
    "        else:\n",
    "            blink_counter = 0\n",
    "\n",
    "        # Check if the eyes have been closed for a long time \n",
    "        if blink_counter >= drowsy_time_threshold:\n",
    "            cv2.putText(frame, \"Alert\", (10, 30), cv2.FONT_HERSHEY_SIMPLEX, 1, (0, 255, 0), 2)\n",
    "        else:\n",
    "            cv2.putText(frame, \"Drowsy\", (10, 30), cv2.FONT_HERSHEY_SIMPLEX, 1, (0, 0, 255), 2)\n",
    "\n",
    "        cv2.imshow('Video', frame)\n",
    "\n",
    "        if cv2.waitKey(1) & 0xFF == 27:  # Press 'Esc' to exit\n",
    "            break\n",
    "\n",
    "    cap.release()\n",
    "    cv2.destroyAllWindows()\n",
    "\n",
    "if __name__ == \"__main__\":\n",
    "    main()"
   ]
  },
  {
   "cell_type": "markdown",
   "id": "738325c1",
   "metadata": {},
   "source": [
    "#### The main function captures the live video using openCV library and detect eyes using the \"detect_eyes\" function and then invokes the function \"detect_drowsiness\" to detect if the person is alert or not.\n",
    "#### If the person is not alert for 10 frames then the person is drowsy and the same is written on the screen."
   ]
  }
 ],
 "metadata": {
  "kernelspec": {
   "display_name": "Python 3 (ipykernel)",
   "language": "python",
   "name": "python3"
  },
  "language_info": {
   "codemirror_mode": {
    "name": "ipython",
    "version": 3
   },
   "file_extension": ".py",
   "mimetype": "text/x-python",
   "name": "python",
   "nbconvert_exporter": "python",
   "pygments_lexer": "ipython3",
   "version": "3.10.9"
  }
 },
 "nbformat": 4,
 "nbformat_minor": 5
}
